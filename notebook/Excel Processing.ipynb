{
 "cells": [
  {
   "cell_type": "code",
   "execution_count": null,
   "metadata": {},
   "outputs": [],
   "source": [
    "import os\n",
    "import pandas as pd\n",
    "import numpy as np\n",
    "\n",
    "import sys\n",
    "sys.path.append(\"./scripts/\")\n",
    "\n",
    "from process import bidExcelProcessing, migration, plotBidPercentages, splitFileCal\n",
    "from extract import filterDownloadExcel, relatedSheetProcessing\n",
    "from reformat import bidExcelFormat, resultExcelFormat\n",
    "\n",
    "cpath = \"/Users/junyelu/Desktop/cost.xlsx\"\n",
    "ppath = \"/Users/junyelu/Desktop/Parameters.xlsx\""
   ]
  },
  {
   "cell_type": "code",
   "execution_count": 8,
   "metadata": {},
   "outputs": [
    {
     "name": "stderr",
     "output_type": "stream",
     "text": [
      "./scripts/process.py:303: SettingWithCopyWarning: \n",
      "A value is trying to be set on a copy of a slice from a DataFrame.\n",
      "Try using .loc[row_indexer,col_indexer] = value instead\n",
      "\n",
      "See the caveats in the documentation: https://pandas.pydata.org/pandas-docs/stable/user_guide/indexing.html#returning-a-view-versus-a-copy\n",
      "  \n",
      "./scripts/process.py:304: SettingWithCopyWarning: \n",
      "A value is trying to be set on a copy of a slice from a DataFrame.\n",
      "Try using .loc[row_indexer,col_indexer] = value instead\n",
      "\n",
      "See the caveats in the documentation: https://pandas.pydata.org/pandas-docs/stable/user_guide/indexing.html#returning-a-view-versus-a-copy\n",
      "  # Remove non numerical entries\n",
      "./scripts/process.py:305: SettingWithCopyWarning: \n",
      "A value is trying to be set on a copy of a slice from a DataFrame.\n",
      "Try using .loc[row_indexer,col_indexer] = value instead\n",
      "\n",
      "See the caveats in the documentation: https://pandas.pydata.org/pandas-docs/stable/user_guide/indexing.html#returning-a-view-versus-a-copy\n",
      "  dataframe = dataframe[dataframe['投标价格'].apply(lambda x: str(x).isascii())]\n"
     ]
    },
    {
     "name": "stdout",
     "output_type": "stream",
     "text": [
      "为参加该包投标, 已第五名为基准\n",
      "为参加该包投标, 已第五名为基准\n"
     ]
    },
    {
     "name": "stderr",
     "output_type": "stream",
     "text": [
      "/Users/junyelu/opt/anaconda3/lib/python3.8/site-packages/numpy/lib/function_base.py:518: RuntimeWarning: Mean of empty slice.\n",
      "  avg = a.mean(axis, **keepdims_kw)\n",
      "/Users/junyelu/opt/anaconda3/lib/python3.8/site-packages/numpy/core/_methods.py:190: RuntimeWarning: invalid value encountered in divide\n",
      "  ret = ret.dtype.type(ret / rcount)\n"
     ]
    }
   ],
   "source": [
    "fpath = '/Users/junyelu/Desktop/金具-内蒙.xlsx'\n",
    "outpath = '/Users/junyelu/Desktop/甘肃金具.xlsx'\n",
    "\n",
    "data = splitFileCal(fpath, outpath)\n",
    "resultExcelFormat(outpath, data)\n"
   ]
  },
  {
   "cell_type": "code",
   "execution_count": null,
   "metadata": {},
   "outputs": [],
   "source": [
    "filePath = \"/Users/junyelu/Desktop/甘肃.xlsx\"\n",
    "plotBidPercentages(filePath)"
   ]
  },
  {
   "cell_type": "code",
   "execution_count": null,
   "metadata": {},
   "outputs": [],
   "source": [
    "opath = '/Users/junyelu/Desktop/货物清单_国网上海市电力公司2022年新增用户接入工程物资协议库存招标采购20221122_121646_179.xlsx'\n",
    "filterDownloadExcel(opath)"
   ]
  },
  {
   "cell_type": "code",
   "execution_count": null,
   "metadata": {},
   "outputs": [],
   "source": [
    "rpath = '/Users/junyelu/Desktop/相关清单/黑龙江省相关清单.xlsx'\n",
    "relatedSheetProcessing(rpath, ppath)"
   ]
  },
  {
   "cell_type": "code",
   "execution_count": null,
   "metadata": {},
   "outputs": [],
   "source": [
    "loc = \"宁夏\"\n",
    "fpath = \"/Users/junyelu/Desktop/相关清单/\"+loc+\"相关清单.xlsx\"\n",
    "outpath = \"/Users/junyelu/Desktop/\"+loc+\".xlsx\"\n",
    "\n",
    "# bidExcelProcessing(fpath, cpath, ppath, outpath)\n",
    "# bidExcelFormat(outpath)\n",
    "plotBidPercentages(outpath)"
   ]
  },
  {
   "cell_type": "code",
   "execution_count": null,
   "metadata": {},
   "outputs": [],
   "source": [
    "#Path migration\n",
    "ipath = '/Users/junyelu/Desktop/山西.xlsx'\n",
    "outpath = \"/Users/junyelu/Desktop/山西10kV架空绝缘导线.xlsx\"\n",
    "migration(ipath, outpath)"
   ]
  },
  {
   "cell_type": "code",
   "execution_count": null,
   "metadata": {},
   "outputs": [],
   "source": [
    "#Parameters reassessing\n",
    "import os\n",
    "\n",
    "import pandas as pd\n",
    "sourceFolder = '/Users/junyelu/Desktop/Files Compost/2021 Work/Bidding/SGCC1'\n",
    "pd.set_option('display.max_rows', 999)\n",
    "\n",
    "fileAddress = []\n",
    "for root, dirs, files in os.walk(sourceFolder):\n",
    "    if '江苏' in root and '开标' in root:\n",
    "        for file in files:\n",
    "            if '金具' not in file:\n",
    "                fileAddress.append(root+'/'+file)\n",
    "\n",
    "tmp = pd.read_excel(fileAddress[1], sheet_name=None)\n",
    "for key, sheet in tmp.items():\n",
    "    print(sheet.iloc[5, -2] + sheet.iloc[3, -2])\n"
   ]
  },
  {
   "cell_type": "code",
   "execution_count": null,
   "metadata": {},
   "outputs": [],
   "source": [
    "import os\n",
    "import pandas as pd\n",
    "sourceFolder = '/Users/junyelu/Desktop/Files Compost/Work/2022 Bidding/SGCC1'\n",
    "pd.set_option('display.max_rows', 999)\n",
    "\n",
    "folders_path = []\n",
    "for file in os.listdir(sourceFolder):\n",
    "    if '开标' in file:\n",
    "        folders_path.append(sourceFolder+\"/\"+file)\n",
    "\n",
    "concat_files = []\n",
    "required_columns = ['分标编号','分标名称','项目单位','分包名称','投标人名称','投标价格']\n",
    "for folder_path in folders_path:\n",
    "    for file in os.listdir(folder_path):\n",
    "        if file.endswith('.xlsx') and '金具' not in file:\n",
    "            print(f'Processing {folder_path, file}')\n",
    "            concat_files.append(pd.concat(pd.read_excel(folder_path+\"/\"+file, sheet_name=None, usecols=required_columns), ignore_index=True))\n",
    "concat_files"
   ]
  },
  {
   "cell_type": "code",
   "execution_count": null,
   "metadata": {},
   "outputs": [],
   "source": [
    "prov_202102_pd = pd.DataFrame.from_dict(prov_202102, orient=\"index\", columns=['Occurence2102'])"
   ]
  },
  {
   "cell_type": "code",
   "execution_count": null,
   "metadata": {},
   "outputs": [],
   "source": [
    "prov_202101_pd = pd.DataFrame.from_dict(prov_202101, orient=\"index\", columns=['Occurence2101'])"
   ]
  },
  {
   "cell_type": "code",
   "execution_count": null,
   "metadata": {},
   "outputs": [],
   "source": [
    "prov_202201_pd = pd.DataFrame.from_dict(prov_202201, orient=\"index\", columns=['Occurence2201'])"
   ]
  },
  {
   "cell_type": "code",
   "execution_count": null,
   "metadata": {},
   "outputs": [],
   "source": [
    "temp = prov_202101_pd.join(prov_202102_pd, how=\"outer\")"
   ]
  },
  {
   "cell_type": "code",
   "execution_count": null,
   "metadata": {},
   "outputs": [],
   "source": [
    "pd.concat(concat_files, ignore_index=True).to_excel('统计.xlsx')"
   ]
  },
  {
   "cell_type": "code",
   "execution_count": null,
   "metadata": {},
   "outputs": [],
   "source": [
    "import pandas\n",
    "pandas.__version__"
   ]
  },
  {
   "cell_type": "code",
   "execution_count": null,
   "metadata": {},
   "outputs": [],
   "source": [
    "import openpyxl\n",
    "openpyxl.__version__"
   ]
  },
  {
   "cell_type": "code",
   "execution_count": null,
   "metadata": {},
   "outputs": [],
   "source": []
  },
  {
   "cell_type": "code",
   "execution_count": null,
   "metadata": {},
   "outputs": [],
   "source": []
  }
 ],
 "metadata": {
  "kernelspec": {
   "display_name": "Python 3.8.8 64-bit ('base': conda)",
   "name": "python388jvsc74a57bd04f48329f54d54f0e789f3d0609b4bf8a990f108571cda362638cc7c4eb1e2da1"
  },
  "language_info": {
   "codemirror_mode": {
    "name": "ipython",
    "version": 3
   },
   "file_extension": ".py",
   "mimetype": "text/x-python",
   "name": "python",
   "nbconvert_exporter": "python",
   "pygments_lexer": "ipython3",
   "version": "3.8.8"
  },
  "metadata": {
   "interpreter": {
    "hash": "4f48329f54d54f0e789f3d0609b4bf8a990f108571cda362638cc7c4eb1e2da1"
   }
  }
 },
 "nbformat": 4,
 "nbformat_minor": 2
}