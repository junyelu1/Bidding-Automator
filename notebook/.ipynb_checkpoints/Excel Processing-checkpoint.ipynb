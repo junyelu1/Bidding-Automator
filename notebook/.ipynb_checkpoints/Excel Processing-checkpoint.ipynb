{
 "cells": [
  {
   "cell_type": "code",
   "execution_count": 78,
   "metadata": {},
   "outputs": [],
   "source": [
    "import os\n",
    "import pandas as pd\n",
    "import numpy as np\n",
    "from openpyxl import *\n",
    "from openpyxl.styles import Font, Border, Side, Alignment, colors\n",
    "import re\n",
    "import sys\n",
    "sys.path.append(\"../scripts/\")\n",
    "\n",
    "from process import bidExcelProcessing, bidExcelFormat\n",
    "from extract import filterDownloadExcel, relatedSheetProcessing\n",
    "\n",
    "cpath = \"/Users/junyelu/Desktop/cost.xlsx\"\n",
    "ppath = \"/Users/junyelu/Desktop/Parameters.xlsx\"\n",
    "\n",
    "\n",
    "def migration(iPath, outpath):\n",
    "    '''\n",
    "    Mapping completed table onto worksheets ready for submission\n",
    "    ---\n",
    "    input: confirmed Excelsheets\n",
    "    output: Excelsheets ready for submssion\n",
    "    ---\n",
    "    '''\n",
    "    #Input and process all files, locate relevant sheets\n",
    "    inputFile = pd.read_excel(ipath, sheet_name=None, converters={'网省采购申请号': int})\n",
    "    table = pd.read_excel(outpath, skiprows=0, usecols='A:S', converters={'网省采购申请行号': int})\n",
    "    table = table.drop('未含税单价(万)', axis=1)\n",
    "    if len(table.loc[0,'分包名称']) == 2:\n",
    "        table.loc[:, '分包名称'] = table.loc[:, '分包名称'].apply(lambda x: x.replace('包', '包0') if len(x) == 2 else x)\n",
    "    for _, sheet in inputFile.items():\n",
    "        if sheet.loc[0,'网省采购申请号'] in list(table['网省采购申请行号']):\n",
    "            inputSheet = sheet\n",
    "            break\n",
    "    \n",
    "    #Migrate data\n",
    "    temp = inputSheet.loc[:,['包名称', '网省采购申请号', '物资名称', '未含税单价']]\n",
    "    temp = temp.rename(columns={'包名称': '分包名称', '网省采购申请号': '网省采购申请行号', '物资名称': '物料名称', '未含税单价': '未含税单价(万)'})\n",
    "    try:\n",
    "        table = pd.merge(table, temp, on=['分包名称', '物料名称','网省采购申请行号'])\n",
    "    except:\n",
    "        return f\"{outpath.split('/')[-1].split('.')[0]} 存在数据问题\"\n",
    "    \n",
    "    #Followup with computations\n",
    "    table['税率（%）'] = 13\n",
    "    table['含税单价(万)'] = table['未含税单价(万)'] * (1 + table['税率（%）']/100) \n",
    "    table['未含税合价(万)'] = table['未含税单价(万)'] * table['数量']\n",
    "    table['含税合价(万)'] = table['含税单价(万)'] * table['数量']\n",
    "\n",
    "    #Check if two totals is the same\n",
    "    if not np.isclose(sheet.tail(1)['含税总价'].values[0], table.sum()['含税合价(万)'], rtol=0, atol=1e-10):\n",
    "        return f\"{outpath.split('/')[-1].split('.')[0]} 与表格总价差异较大\"\n",
    "\n",
    "    new_cols = ['分包编号', '分包名称', '轮次', '附件上传状态', '物料编码', '物料名称', '技术规范书ID', '网省采购申请行号',\n",
    "       '项目单位', '单位', '扩展描述', '包限价(万)', '行限价(万)', '数量', '未含税单价(万)', '税率（%）', '含税单价(万)',\n",
    "       '未含税合价(万)', '含税合价(万)']\n",
    "    finalTable = table.reindex(columns = new_cols)\n",
    "\n",
    "    #Safeguard against price ceilings\n",
    "    if any(table['行限价(万)'].astype(str).str.contains('\\d', regex=True)):\n",
    "        if any(table['行限价(万)'] < table['含税合价(万)']):\n",
    "            return f\"{outpath.split('/')[-1].split('.')[0]} 超过行限价\"\n",
    "\n",
    "    with pd.ExcelWriter(outpath, mode='a', engine='openpyxl', if_sheet_exists='new') as writer:\n",
    "        finalTable.to_excel(writer, sheet_name='报价方式-单价', index=False, startrow=1, startcol=1)\n",
    " "
   ]
  },
  {
   "cell_type": "code",
   "execution_count": 8,
   "metadata": {},
   "outputs": [
    {
     "name": "stderr",
     "output_type": "stream",
     "text": [
      "/Users/junyelu/opt/anaconda3/lib/python3.8/site-packages/openpyxl/styles/stylesheet.py:221: UserWarning: Workbook contains no default style, apply openpyxl's default\n",
      "  warn(\"Workbook contains no default style, apply openpyxl's default\")\n"
     ]
    },
    {
     "data": {
      "text/plain": [
       "'No related subprojects present in this file.'"
      ]
     },
     "execution_count": 8,
     "metadata": {},
     "output_type": "execute_result"
    }
   ],
   "source": [
    "opath = '/Users/junyelu/Desktop/货物清单_国网上海市电力公司2022年新增用户接入工程物资协议库存招标采购20221122_121646_179.xlsx'\n",
    "filterDownloadExcel(opath)"
   ]
  },
  {
   "cell_type": "code",
   "execution_count": 81,
   "metadata": {},
   "outputs": [],
   "source": [
    "def relatedSheetProcessing(relatedSheetPath: str, parameterPath: str):\n",
    "    '''\n",
    "    Collect product information, type, amount, and delivery location\n",
    "    '''\n",
    "    # Check input type\n",
    "    assert \".xlsx\" in relatedSheetPath, f\"Related Sheet FilePath given is not Excel\"\n",
    "    assert \".xlsx\" in parameterPath, f\"Parameters FilePath given is not Excel\"\n",
    "\n",
    "    relatedSheet = pd.read_excel(relatedSheetPath, sheet_name=None)\n",
    "    parameterSheet = pd.read_excel(parameterPath, sheet_name=None)\n",
    "\n",
    "    for name, sheet in relatedSheet.items():\n",
    "\n",
    "        # Collect information from relatedSheet\n",
    "        projectCode = sheet.loc[1, '分标编号']\n",
    "        projectOwner = sheet.loc[1, '项目单位']\n",
    "        projectName = name\n",
    "\n",
    "        # Modify information in the worksheet\n",
    "        projectBao = sorted([x.replace(\"包\", \"包0\") if len(\n",
    "            x) == 2 else x for x in list(set(sheet.loc[:, '包名称']))])\n",
    "        projectType = sorted(list(set(sheet.loc[:, '物资名称'])))\n",
    "        projectInfo = [[projectCode, projectOwner, projectName, bao]\n",
    "                       for bao in projectBao]\n",
    "        projectInfo.sort()\n",
    "        projectInfoDf = pd.DataFrame(projectInfo)\n",
    "        projectProd = [[projectCode, projectOwner, prod]\n",
    "                       for prod in projectType]\n",
    "        projectProd.sort()\n",
    "        projectProdDf = pd.DataFrame(projectProd)\n",
    "\n",
    "        # Add unknown location to the list if any\n",
    "        projectDeliveryLoc = set(sheet.loc[:, '需求单位'].unique())\n",
    "        locParameters = set(parameterSheet['Sheet3'].loc[:, '需求单位'].values)\n",
    "        if len(projectDeliveryLoc) > 1:\n",
    "            if projectDeliveryLoc.issubset(locParameters):\n",
    "                locDf = pd.DataFrame()\n",
    "            else:\n",
    "                locDf = pd.DataFrame(projectDeliveryLoc -\n",
    "                                     locParameters)\n",
    "\n",
    "        # Paste info to Parameters\n",
    "        with pd.ExcelWriter(parameterPath, engine=\"openpyxl\", mode=\"a\", if_sheet_exists=\"overlay\") as writer:\n",
    "            projectInfoDf.to_excel(writer, sheet_name=\"Sheet1\",\n",
    "                                   startrow=writer.sheets['Sheet1'].max_row, index=False, header=False)\n",
    "            projectProdDf.to_excel(writer, sheet_name=\"Sheet2\",\n",
    "                                   startrow=writer.sheets['Sheet2'].max_row, index=False, header=False)\n",
    "            locDf.to_excel(writer, sheet_name=\"Sheet3\",\n",
    "                           startrow=writer.sheets['Sheet3'].max_row, index=False, header=False)\n"
   ]
  },
  {
   "cell_type": "code",
   "execution_count": 82,
   "metadata": {},
   "outputs": [
    {
     "ename": "TypeError",
     "evalue": "Index(...) must be called with a collection of some kind, 'Locations' was passed",
     "output_type": "error",
     "traceback": [
      "\u001b[0;31m---------------------------------------------------------------------------\u001b[0m",
      "\u001b[0;31mTypeError\u001b[0m                                 Traceback (most recent call last)",
      "\u001b[0;32m<ipython-input-82-7436701dbcc5>\u001b[0m in \u001b[0;36m<module>\u001b[0;34m\u001b[0m\n\u001b[1;32m      1\u001b[0m \u001b[0mrpath\u001b[0m \u001b[0;34m=\u001b[0m \u001b[0;34m'/Users/junyelu/Desktop/相关清单/黑龙江省相关清单.xlsx'\u001b[0m\u001b[0;34m\u001b[0m\u001b[0;34m\u001b[0m\u001b[0m\n\u001b[0;32m----> 2\u001b[0;31m \u001b[0mrelatedSheetProcessing\u001b[0m\u001b[0;34m(\u001b[0m\u001b[0mrpath\u001b[0m\u001b[0;34m,\u001b[0m \u001b[0mppath\u001b[0m\u001b[0;34m)\u001b[0m\u001b[0;34m\u001b[0m\u001b[0;34m\u001b[0m\u001b[0m\n\u001b[0m",
      "\u001b[0;32m<ipython-input-81-d5273bb140c1>\u001b[0m in \u001b[0;36mrelatedSheetProcessing\u001b[0;34m(relatedSheetPath, parameterPath)\u001b[0m\n\u001b[1;32m     37\u001b[0m                 \u001b[0mlocDf\u001b[0m \u001b[0;34m=\u001b[0m \u001b[0mpd\u001b[0m\u001b[0;34m.\u001b[0m\u001b[0mDataFrame\u001b[0m\u001b[0;34m(\u001b[0m\u001b[0;34m)\u001b[0m\u001b[0;34m\u001b[0m\u001b[0;34m\u001b[0m\u001b[0m\n\u001b[1;32m     38\u001b[0m             \u001b[0;32melse\u001b[0m\u001b[0;34m:\u001b[0m\u001b[0;34m\u001b[0m\u001b[0;34m\u001b[0m\u001b[0m\n\u001b[0;32m---> 39\u001b[0;31m                 locDf = pd.DataFrame(projectDeliveryLoc -\n\u001b[0m\u001b[1;32m     40\u001b[0m                                      locParameters, columns='Locations')\n\u001b[1;32m     41\u001b[0m \u001b[0;34m\u001b[0m\u001b[0m\n",
      "\u001b[0;32m~/opt/anaconda3/lib/python3.8/site-packages/pandas/core/frame.py\u001b[0m in \u001b[0;36m__init__\u001b[0;34m(self, data, index, columns, dtype, copy)\u001b[0m\n\u001b[1;32m    735\u001b[0m                     )\n\u001b[1;32m    736\u001b[0m                 \u001b[0;32melse\u001b[0m\u001b[0;34m:\u001b[0m\u001b[0;34m\u001b[0m\u001b[0;34m\u001b[0m\u001b[0m\n\u001b[0;32m--> 737\u001b[0;31m                     mgr = ndarray_to_mgr(\n\u001b[0m\u001b[1;32m    738\u001b[0m                         \u001b[0mdata\u001b[0m\u001b[0;34m,\u001b[0m\u001b[0;34m\u001b[0m\u001b[0;34m\u001b[0m\u001b[0m\n\u001b[1;32m    739\u001b[0m                         \u001b[0mindex\u001b[0m\u001b[0;34m,\u001b[0m\u001b[0;34m\u001b[0m\u001b[0;34m\u001b[0m\u001b[0m\n",
      "\u001b[0;32m~/opt/anaconda3/lib/python3.8/site-packages/pandas/core/internals/construction.py\u001b[0m in \u001b[0;36mndarray_to_mgr\u001b[0;34m(values, index, columns, dtype, copy, typ)\u001b[0m\n\u001b[1;32m    345\u001b[0m \u001b[0;34m\u001b[0m\u001b[0m\n\u001b[1;32m    346\u001b[0m     \u001b[0;31m# _prep_ndarray ensures that values.ndim == 2 at this point\u001b[0m\u001b[0;34m\u001b[0m\u001b[0;34m\u001b[0m\u001b[0;34m\u001b[0m\u001b[0m\n\u001b[0;32m--> 347\u001b[0;31m     index, columns = _get_axes(\n\u001b[0m\u001b[1;32m    348\u001b[0m         \u001b[0mvalues\u001b[0m\u001b[0;34m.\u001b[0m\u001b[0mshape\u001b[0m\u001b[0;34m[\u001b[0m\u001b[0;36m0\u001b[0m\u001b[0;34m]\u001b[0m\u001b[0;34m,\u001b[0m \u001b[0mvalues\u001b[0m\u001b[0;34m.\u001b[0m\u001b[0mshape\u001b[0m\u001b[0;34m[\u001b[0m\u001b[0;36m1\u001b[0m\u001b[0;34m]\u001b[0m\u001b[0;34m,\u001b[0m \u001b[0mindex\u001b[0m\u001b[0;34m=\u001b[0m\u001b[0mindex\u001b[0m\u001b[0;34m,\u001b[0m \u001b[0mcolumns\u001b[0m\u001b[0;34m=\u001b[0m\u001b[0mcolumns\u001b[0m\u001b[0;34m\u001b[0m\u001b[0;34m\u001b[0m\u001b[0m\n\u001b[1;32m    349\u001b[0m     )\n",
      "\u001b[0;32m~/opt/anaconda3/lib/python3.8/site-packages/pandas/core/internals/construction.py\u001b[0m in \u001b[0;36m_get_axes\u001b[0;34m(N, K, index, columns)\u001b[0m\n\u001b[1;32m    759\u001b[0m         \u001b[0mcolumns\u001b[0m \u001b[0;34m=\u001b[0m \u001b[0mdefault_index\u001b[0m\u001b[0;34m(\u001b[0m\u001b[0mK\u001b[0m\u001b[0;34m)\u001b[0m\u001b[0;34m\u001b[0m\u001b[0;34m\u001b[0m\u001b[0m\n\u001b[1;32m    760\u001b[0m     \u001b[0;32melse\u001b[0m\u001b[0;34m:\u001b[0m\u001b[0;34m\u001b[0m\u001b[0;34m\u001b[0m\u001b[0m\n\u001b[0;32m--> 761\u001b[0;31m         \u001b[0mcolumns\u001b[0m \u001b[0;34m=\u001b[0m \u001b[0mensure_index\u001b[0m\u001b[0;34m(\u001b[0m\u001b[0mcolumns\u001b[0m\u001b[0;34m)\u001b[0m\u001b[0;34m\u001b[0m\u001b[0;34m\u001b[0m\u001b[0m\n\u001b[0m\u001b[1;32m    762\u001b[0m     \u001b[0;32mreturn\u001b[0m \u001b[0mindex\u001b[0m\u001b[0;34m,\u001b[0m \u001b[0mcolumns\u001b[0m\u001b[0;34m\u001b[0m\u001b[0;34m\u001b[0m\u001b[0m\n\u001b[1;32m    763\u001b[0m \u001b[0;34m\u001b[0m\u001b[0m\n",
      "\u001b[0;32m~/opt/anaconda3/lib/python3.8/site-packages/pandas/core/indexes/base.py\u001b[0m in \u001b[0;36mensure_index\u001b[0;34m(index_like, copy)\u001b[0m\n\u001b[1;32m   7041\u001b[0m             \u001b[0;32mreturn\u001b[0m \u001b[0mIndex\u001b[0m\u001b[0;34m.\u001b[0m\u001b[0m_with_infer\u001b[0m\u001b[0;34m(\u001b[0m\u001b[0mindex_like\u001b[0m\u001b[0;34m,\u001b[0m \u001b[0mcopy\u001b[0m\u001b[0;34m=\u001b[0m\u001b[0mcopy\u001b[0m\u001b[0;34m,\u001b[0m \u001b[0mtupleize_cols\u001b[0m\u001b[0;34m=\u001b[0m\u001b[0;32mFalse\u001b[0m\u001b[0;34m)\u001b[0m\u001b[0;34m\u001b[0m\u001b[0;34m\u001b[0m\u001b[0m\n\u001b[1;32m   7042\u001b[0m     \u001b[0;32melse\u001b[0m\u001b[0;34m:\u001b[0m\u001b[0;34m\u001b[0m\u001b[0;34m\u001b[0m\u001b[0m\n\u001b[0;32m-> 7043\u001b[0;31m         \u001b[0;32mreturn\u001b[0m \u001b[0mIndex\u001b[0m\u001b[0;34m.\u001b[0m\u001b[0m_with_infer\u001b[0m\u001b[0;34m(\u001b[0m\u001b[0mindex_like\u001b[0m\u001b[0;34m,\u001b[0m \u001b[0mcopy\u001b[0m\u001b[0;34m=\u001b[0m\u001b[0mcopy\u001b[0m\u001b[0;34m)\u001b[0m\u001b[0;34m\u001b[0m\u001b[0;34m\u001b[0m\u001b[0m\n\u001b[0m\u001b[1;32m   7044\u001b[0m \u001b[0;34m\u001b[0m\u001b[0m\n\u001b[1;32m   7045\u001b[0m \u001b[0;34m\u001b[0m\u001b[0m\n",
      "\u001b[0;32m~/opt/anaconda3/lib/python3.8/site-packages/pandas/core/indexes/base.py\u001b[0m in \u001b[0;36m_with_infer\u001b[0;34m(cls, *args, **kwargs)\u001b[0m\n\u001b[1;32m    678\u001b[0m         \u001b[0;32mwith\u001b[0m \u001b[0mwarnings\u001b[0m\u001b[0;34m.\u001b[0m\u001b[0mcatch_warnings\u001b[0m\u001b[0;34m(\u001b[0m\u001b[0;34m)\u001b[0m\u001b[0;34m:\u001b[0m\u001b[0;34m\u001b[0m\u001b[0;34m\u001b[0m\u001b[0m\n\u001b[1;32m    679\u001b[0m             \u001b[0mwarnings\u001b[0m\u001b[0;34m.\u001b[0m\u001b[0mfilterwarnings\u001b[0m\u001b[0;34m(\u001b[0m\u001b[0;34m\"ignore\"\u001b[0m\u001b[0;34m,\u001b[0m \u001b[0;34m\".*the Index constructor\"\u001b[0m\u001b[0;34m,\u001b[0m \u001b[0mFutureWarning\u001b[0m\u001b[0;34m)\u001b[0m\u001b[0;34m\u001b[0m\u001b[0;34m\u001b[0m\u001b[0m\n\u001b[0;32m--> 680\u001b[0;31m             \u001b[0mresult\u001b[0m \u001b[0;34m=\u001b[0m \u001b[0mcls\u001b[0m\u001b[0;34m(\u001b[0m\u001b[0;34m*\u001b[0m\u001b[0margs\u001b[0m\u001b[0;34m,\u001b[0m \u001b[0;34m**\u001b[0m\u001b[0mkwargs\u001b[0m\u001b[0;34m)\u001b[0m\u001b[0;34m\u001b[0m\u001b[0;34m\u001b[0m\u001b[0m\n\u001b[0m\u001b[1;32m    681\u001b[0m \u001b[0;34m\u001b[0m\u001b[0m\n\u001b[1;32m    682\u001b[0m         \u001b[0;32mif\u001b[0m \u001b[0mresult\u001b[0m\u001b[0;34m.\u001b[0m\u001b[0mdtype\u001b[0m \u001b[0;34m==\u001b[0m \u001b[0m_dtype_obj\u001b[0m \u001b[0;32mand\u001b[0m \u001b[0;32mnot\u001b[0m \u001b[0mresult\u001b[0m\u001b[0;34m.\u001b[0m\u001b[0m_is_multi\u001b[0m\u001b[0;34m:\u001b[0m\u001b[0;34m\u001b[0m\u001b[0;34m\u001b[0m\u001b[0m\n",
      "\u001b[0;32m~/opt/anaconda3/lib/python3.8/site-packages/pandas/core/indexes/base.py\u001b[0m in \u001b[0;36m__new__\u001b[0;34m(cls, data, dtype, copy, name, tupleize_cols, **kwargs)\u001b[0m\n\u001b[1;32m    506\u001b[0m \u001b[0;34m\u001b[0m\u001b[0m\n\u001b[1;32m    507\u001b[0m         \u001b[0;32melif\u001b[0m \u001b[0mis_scalar\u001b[0m\u001b[0;34m(\u001b[0m\u001b[0mdata\u001b[0m\u001b[0;34m)\u001b[0m\u001b[0;34m:\u001b[0m\u001b[0;34m\u001b[0m\u001b[0;34m\u001b[0m\u001b[0m\n\u001b[0;32m--> 508\u001b[0;31m             \u001b[0;32mraise\u001b[0m \u001b[0mcls\u001b[0m\u001b[0;34m.\u001b[0m\u001b[0m_scalar_data_error\u001b[0m\u001b[0;34m(\u001b[0m\u001b[0mdata\u001b[0m\u001b[0;34m)\u001b[0m\u001b[0;34m\u001b[0m\u001b[0;34m\u001b[0m\u001b[0m\n\u001b[0m\u001b[1;32m    509\u001b[0m         \u001b[0;32melif\u001b[0m \u001b[0mhasattr\u001b[0m\u001b[0;34m(\u001b[0m\u001b[0mdata\u001b[0m\u001b[0;34m,\u001b[0m \u001b[0;34m\"__array__\"\u001b[0m\u001b[0;34m)\u001b[0m\u001b[0;34m:\u001b[0m\u001b[0;34m\u001b[0m\u001b[0;34m\u001b[0m\u001b[0m\n\u001b[1;32m    510\u001b[0m             \u001b[0;32mreturn\u001b[0m \u001b[0mIndex\u001b[0m\u001b[0;34m(\u001b[0m\u001b[0mnp\u001b[0m\u001b[0;34m.\u001b[0m\u001b[0masarray\u001b[0m\u001b[0;34m(\u001b[0m\u001b[0mdata\u001b[0m\u001b[0;34m)\u001b[0m\u001b[0;34m,\u001b[0m \u001b[0mdtype\u001b[0m\u001b[0;34m=\u001b[0m\u001b[0mdtype\u001b[0m\u001b[0;34m,\u001b[0m \u001b[0mcopy\u001b[0m\u001b[0;34m=\u001b[0m\u001b[0mcopy\u001b[0m\u001b[0;34m,\u001b[0m \u001b[0mname\u001b[0m\u001b[0;34m=\u001b[0m\u001b[0mname\u001b[0m\u001b[0;34m,\u001b[0m \u001b[0;34m**\u001b[0m\u001b[0mkwargs\u001b[0m\u001b[0;34m)\u001b[0m\u001b[0;34m\u001b[0m\u001b[0;34m\u001b[0m\u001b[0m\n",
      "\u001b[0;31mTypeError\u001b[0m: Index(...) must be called with a collection of some kind, 'Locations' was passed"
     ]
    }
   ],
   "source": [
    "rpath = '/Users/junyelu/Desktop/相关清单/黑龙江省相关清单.xlsx'\n",
    "relatedSheetProcessing(rpath, ppath)"
   ]
  },
  {
   "cell_type": "code",
   "execution_count": 4,
   "metadata": {},
   "outputs": [],
   "source": [
    "loc = \"山东\"\n",
    "fpath = \"/Users/junyelu/Desktop/相关清单/\"+loc+\"省相关清单.xlsx\"\n",
    "outpath = \"/Users/junyelu/Desktop/\"+loc+\".xlsx\"\n",
    "\n",
    "bidExcelProcessing(fpath, cpath, ppath, outpath)\n",
    "bidExcelFormat(outpath)"
   ]
  },
  {
   "cell_type": "code",
   "execution_count": null,
   "metadata": {},
   "outputs": [],
   "source": [
    "#Path migration\n",
    "ipath = '/Users/junyelu/Desktop/宁夏.xlsx'\n",
    "outpath = \"/Users/junyelu/Desktop/宁夏架空绝缘导线（一）.xlsx\"\n",
    "migration(ipath, outpath)"
   ]
  },
  {
   "cell_type": "code",
   "execution_count": null,
   "metadata": {},
   "outputs": [],
   "source": [
    "#Parameters reassessing\n",
    "import os\n",
    "\n",
    "import pandas as pd\n",
    "sourceFolder = '/Users/junyelu/Desktop/Files Compost/2021 Work/Bidding/SGCC1'\n",
    "pd.set_option('display.max_rows', 999)\n",
    "\n",
    "fileAddress = []\n",
    "for root, dirs, files in os.walk(sourceFolder):\n",
    "    if '江苏' in root and '开标' in root:\n",
    "        for file in files:\n",
    "            if '金具' not in file:\n",
    "                fileAddress.append(root+'/'+file)\n",
    "\n",
    "tmp = pd.read_excel(fileAddress[1], sheet_name=None)\n",
    "for key, sheet in tmp.items():\n",
    "    print(sheet.iloc[5, -2] + sheet.iloc[3, -2])\n"
   ]
  },
  {
   "cell_type": "code",
   "execution_count": null,
   "metadata": {},
   "outputs": [],
   "source": [
    "import os\n",
    "import pandas as pd\n",
    "sourceFolder = '/Users/junyelu/Desktop/Files Compost/Work/2022 Bidding/SGCC1'\n",
    "pd.set_option('display.max_rows', 999)\n",
    "\n",
    "folders_path = []\n",
    "for file in os.listdir(sourceFolder):\n",
    "    if '开标' in file:\n",
    "        folders_path.append(sourceFolder+\"/\"+file)\n",
    "\n",
    "concat_files = []\n",
    "required_columns = ['分标编号','分标名称','项目单位','分包名称','投标人名称','投标价格']\n",
    "for folder_path in folders_path:\n",
    "    for file in os.listdir(folder_path):\n",
    "        if file.endswith('.xlsx') and '金具' not in file:\n",
    "            print(f'Processing {folder_path, file}')\n",
    "            concat_files.append(pd.concat(pd.read_excel(folder_path+\"/\"+file, sheet_name=None, usecols=required_columns), ignore_index=True))\n",
    "concat_files"
   ]
  },
  {
   "cell_type": "code",
   "execution_count": null,
   "metadata": {},
   "outputs": [],
   "source": [
    "prov_202102_pd = pd.DataFrame.from_dict(prov_202102, orient=\"index\", columns=['Occurence2102'])"
   ]
  },
  {
   "cell_type": "code",
   "execution_count": null,
   "metadata": {},
   "outputs": [],
   "source": [
    "prov_202101_pd = pd.DataFrame.from_dict(prov_202101, orient=\"index\", columns=['Occurence2101'])"
   ]
  },
  {
   "cell_type": "code",
   "execution_count": null,
   "metadata": {},
   "outputs": [],
   "source": [
    "prov_202201_pd = pd.DataFrame.from_dict(prov_202201, orient=\"index\", columns=['Occurence2201'])"
   ]
  },
  {
   "cell_type": "code",
   "execution_count": null,
   "metadata": {},
   "outputs": [],
   "source": [
    "temp = prov_202101_pd.join(prov_202102_pd, how=\"outer\")"
   ]
  },
  {
   "cell_type": "code",
   "execution_count": null,
   "metadata": {},
   "outputs": [],
   "source": [
    "pd.concat(concat_files, ignore_index=True).to_excel('统计.xlsx')"
   ]
  },
  {
   "cell_type": "code",
   "execution_count": null,
   "metadata": {},
   "outputs": [],
   "source": [
    "import pandas\n",
    "pandas.__version__"
   ]
  },
  {
   "cell_type": "code",
   "execution_count": null,
   "metadata": {},
   "outputs": [],
   "source": [
    "import openpyxl\n",
    "openpyxl.__version__"
   ]
  },
  {
   "cell_type": "code",
   "execution_count": null,
   "metadata": {},
   "outputs": [],
   "source": []
  }
 ],
 "metadata": {
  "kernelspec": {
   "display_name": "Python 3.8.8 64-bit ('base': conda)",
   "language": "python",
   "name": "python388jvsc74a57bd04f48329f54d54f0e789f3d0609b4bf8a990f108571cda362638cc7c4eb1e2da1"
  },
  "language_info": {
   "codemirror_mode": {
    "name": "ipython",
    "version": 3
   },
   "file_extension": ".py",
   "mimetype": "text/x-python",
   "name": "python",
   "nbconvert_exporter": "python",
   "pygments_lexer": "ipython3",
   "version": "3.8.8"
  },
  "metadata": {
   "interpreter": {
    "hash": "4f48329f54d54f0e789f3d0609b4bf8a990f108571cda362638cc7c4eb1e2da1"
   }
  }
 },
 "nbformat": 4,
 "nbformat_minor": 2
}
